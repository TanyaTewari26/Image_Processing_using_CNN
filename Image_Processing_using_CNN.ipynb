{
  "cells": [
    {
      "cell_type": "code",
      "execution_count": 1,
      "metadata": {
        "colab": {
          "base_uri": "https://localhost:8080/"
        },
        "id": "a72s6j6L-lv7",
        "outputId": "338472d9-ec9d-4860-e08c-8a1ab3ca5389"
      },
      "outputs": [
        {
          "output_type": "stream",
          "name": "stdout",
          "text": [
            "Drive already mounted at /content/drive; to attempt to forcibly remount, call drive.mount(\"/content/drive\", force_remount=True).\n"
          ]
        }
      ],
      "source": [
        "from google.colab import drive\n",
        "drive.mount('/content/drive')"
      ]
    },
    {
      "cell_type": "markdown",
      "metadata": {
        "id": "Lzln0dKk-ij9"
      },
      "source": [
        "# Convolutional Neural Networks (CNNs)\n",
        "\n",
        "A convolutional NN is a network that contains one or more convolutional layers.  A convolutional layer allows the network to process spatial patterns (e.g., identify items within an image).  For this reason, CNNs are commonly used for image identification and computer vision.\n",
        "\n",
        "The challenges with images is that there is often a lot going on: what should the network focus on?  CNNs simplify images, converting them into the main lines or features.  That simplified pattern is then fed into a more traditional neural network, which identifies the pattern.\n",
        "\n",
        "The following is a typical architecture for CNNs:\n",
        "1. Conv2D\n",
        "1. MaxPooling2D\n",
        "1. Dropout\n",
        "1. Flatten\n",
        "1. Dense\n",
        "1. Dropout\n",
        "1. Dense NN that uses Softmax (for >2 categories)\n",
        "\n",
        "The convolutional layer applies a filter to a 3x3 collection of pixels.  This process *convolutes* or reshapes the image into something simpler.  For a 3 channel image, the convolution process converts the image into a black and white image.\n",
        "\n",
        "Max pooling simplifies the image even further by using only the maximum value within a 2x2 window.  This step further reduces image complexity by reducing its size, which speeds computation.\n",
        "\n",
        "Flatten converts the 2D image data into 1D.  This step prepares the data for the NN.\n",
        "\n",
        "After Flatten is our traditional NN, which will identify the patterns, apply softmax, and make the final prediction.\n",
        "\n",
        "For an intuitive understanding of how CNNs work, check out this website:\n",
        "<a href=\"https://ujjwalkarn.me/2016/08/11/intuitive-explanation-convnets/\">An Intuitive Explanation of CNNs.</a>"
      ]
    },
    {
      "cell_type": "markdown",
      "metadata": {
        "id": "Zn-ygkXr-ij-"
      },
      "source": [
        "* 0 airplane\n",
        "* 1 automobile\n",
        "* 2 bird\n",
        "* 3 cat\n",
        "* 4 deer\n",
        "* 5 dog\n",
        "* 6 frog\n",
        "* 7 horse\n",
        "* 8 ship\n",
        "* 9 truck"
      ]
    },
    {
      "cell_type": "markdown",
      "metadata": {
        "id": "6dbAsftE-ij-"
      },
      "source": [
        "## Import Keras Libaries and Import the CIFAR dataset"
      ]
    },
    {
      "cell_type": "code",
      "execution_count": 10,
      "metadata": {
        "id": "yjDn6Lvp-ij_"
      },
      "outputs": [],
      "source": [
        "import matplotlib.pyplot as plt\n",
        "from keras.datasets import cifar10\n",
        "from tensorflow.keras.utils import to_categorical\n",
        "from tensorflow.keras.models import Sequential\n",
        "from tensorflow.keras.layers import Dense, Dropout, Activation, Flatten\n",
        "from tensorflow.keras.layers import BatchNormalization\n",
        "from tensorflow.keras.layers import Conv2D, MaxPooling2D\n",
        "from keras.optimizers import SGD, Adam, RMSprop"
      ]
    },
    {
      "cell_type": "code",
      "source": [
        "import keras\n",
        "print(keras.__version__)"
      ],
      "metadata": {
        "colab": {
          "base_uri": "https://localhost:8080/"
        },
        "id": "KAAkmVs6INLO",
        "outputId": "7ed74397-5e32-4cdc-d587-8629a717f2ef"
      },
      "execution_count": 11,
      "outputs": [
        {
          "output_type": "stream",
          "name": "stdout",
          "text": [
            "2.13.1\n"
          ]
        }
      ]
    },
    {
      "cell_type": "markdown",
      "metadata": {
        "id": "uBz1wJkv-ij_"
      },
      "source": [
        "## Set up Parameter values for the Network"
      ]
    },
    {
      "cell_type": "code",
      "execution_count": 12,
      "metadata": {
        "id": "XIZjxuFP-ij_"
      },
      "outputs": [],
      "source": [
        "OPTIM = RMSprop()"
      ]
    },
    {
      "cell_type": "code",
      "execution_count": 13,
      "metadata": {
        "id": "-FbVl2Pj-ikA",
        "colab": {
          "base_uri": "https://localhost:8080/"
        },
        "outputId": "2617c51b-1663-4849-c71c-b1783ecba5b5"
      },
      "outputs": [
        {
          "output_type": "stream",
          "name": "stdout",
          "text": [
            "500 train samples\n",
            "100 test samples\n"
          ]
        }
      ],
      "source": [
        "import numpy as np\n",
        "# Load data: this loads the data: may take a few minutes!\n",
        "(X_train, y_train), (X_test, y_test) = cifar10.load_data()\n",
        "\n",
        "# Sample 1% of the cifar10 data to save time\n",
        "idx = np.random.choice(np.arange(X_train.shape[0]), 500, replace=False)\n",
        "X_train = X_train[idx]\n",
        "y_train = y_train[idx]\n",
        "idx = np.random.choice(np.arange(X_test.shape[0]), 100, replace=False)\n",
        "X_test = X_test[idx]\n",
        "y_test = y_test[idx]\n",
        "y_train = np.reshape(y_train,(500,))\n",
        "y_test = np.reshape(y_test,(100,))\n",
        "print(X_train.shape[0], 'train samples')\n",
        "print(X_test.shape[0], 'test samples')"
      ]
    },
    {
      "cell_type": "code",
      "execution_count": 16,
      "metadata": {
        "id": "Z_WgpxQX-ikA",
        "colab": {
          "base_uri": "https://localhost:8080/",
          "height": 447
        },
        "outputId": "73dfa36b-12d0-4489-9623-f80e0071cabd"
      },
      "outputs": [
        {
          "output_type": "execute_result",
          "data": {
            "text/plain": [
              "<matplotlib.image.AxesImage at 0x7eea5ada55a0>"
            ]
          },
          "metadata": {},
          "execution_count": 16
        },
        {
          "output_type": "display_data",
          "data": {
            "text/plain": [
              "<Figure size 640x480 with 1 Axes>"
            ],
            "image/png": "[encoded data removed]"
          },
          "metadata": {}
        }
      ],
      "source": [
        "import numpy as np\n",
        "import matplotlib.pyplot as plt\n",
        "\n",
        "# get a row data\n",
        "data = X_train[0, :]\n",
        "\n",
        "# Fortran-like indexing order (x-axis, y-axis , Red Blue Greeen (RGB Value)\n",
        "data = np.reshape(data, (32,32,3), order='F' )\n",
        "plt.imshow(data)"
      ]
    },
    {
      "cell_type": "markdown",
      "metadata": {
        "id": "GxqY4Y5h-ikA"
      },
      "source": [
        "## Change y to binary variables"
      ]
    },
    {
      "cell_type": "code",
      "execution_count": 17,
      "metadata": {
        "id": "I4zCon3K-ikB"
      },
      "outputs": [],
      "source": [
        "import pandas as pd\n",
        "y_train_binaries = pd.get_dummies(y_train)\n",
        "y_test_binaries = pd.get_dummies(y_test)"
      ]
    },
    {
      "cell_type": "markdown",
      "source": [
        "## Configure Network\n",
        "\n",
        "The following code creates a convolutional layer, with a 3,3 convolutional filters\n",
        "\n",
        "### Difference between Valid and Same Padding\n",
        "\n",
        "When padding == \"VALID\", the input image is not padded. This means that the filter window always stays inside the input image.  This type of padding is called valid because for this padding only the valid and original elements of the input image are considered. When padding == \"VALID\", there can be a loss of information. Generally, elements on the right and the bottom of the image tend to be ignored. How many elements are ignored depends on the size of the kernel and the stride.\n",
        "\n",
        "When padding == “SAME”, the input is half padded. The padding type is called SAME because the output size is the same as the input size(when stride=1). Using 'SAME' ensures that the filter is applied to all the elements of the input. Normally, padding is set to \"SAME\" while training the model. Output size is mathematically convenient for further computation.\n",
        "\n",
        "\n",
        "Number of filters is always in the form of 2^n, here we have taken 32"
      ],
      "metadata": {
        "id": "1uJPSj-_0lBb"
      }
    },
    {
      "cell_type": "code",
      "execution_count": 18,
      "metadata": {
        "id": "iT7n7wSG-ikB"
      },
      "outputs": [],
      "source": [
        "model = Sequential()\n",
        "model.add(Conv2D(32, (3,3), padding='same', \\\n",
        "    input_shape = (32,32,3)))\n",
        "model.add(Activation('relu'))\n",
        "\n",
        "# Reduce the number of channels of the image (to black and white)\n",
        "# take the maximum value within a block\n",
        "model.add(MaxPooling2D(pool_size=(2,2)))\n",
        "model.add(Dropout(0.2))"
      ]
    },
    {
      "cell_type": "markdown",
      "source": [
        "Prepare image data for the NN: convert 2D to 1D"
      ],
      "metadata": {
        "id": "T7mSfy2Q1alD"
      }
    },
    {
      "cell_type": "code",
      "execution_count": 19,
      "metadata": {
        "id": "kRvMdjMr-ikB",
        "colab": {
          "base_uri": "https://localhost:8080/"
        },
        "outputId": "c9c76da6-dbd7-4c07-f49a-a21626ae2318"
      },
      "outputs": [
        {
          "output_type": "stream",
          "name": "stdout",
          "text": [
            "Model: \"sequential\"\n",
            "_________________________________________________________________\n",
            " Layer (type)                Output Shape              Param #   \n",
            "=================================================================\n",
            " conv2d (Conv2D)             (None, 32, 32, 32)        896       \n",
            "                                                                 \n",
            " activation (Activation)     (None, 32, 32, 32)        0         \n",
            "                                                                 \n",
            " max_pooling2d (MaxPooling2  (None, 16, 16, 32)        0         \n",
            " D)                                                              \n",
            "                                                                 \n",
            " dropout (Dropout)           (None, 16, 16, 32)        0         \n",
            "                                                                 \n",
            " flatten (Flatten)           (None, 8192)              0         \n",
            "                                                                 \n",
            " first_hidden (Dense)        (None, 100)               819300    \n",
            "                                                                 \n",
            " batch_normalization (Batch  (None, 100)               400       \n",
            " Normalization)                                                  \n",
            "                                                                 \n",
            " dropout_1 (Dropout)         (None, 100)               0         \n",
            "                                                                 \n",
            " second_hidden (Dense)       (None, 50)                5050      \n",
            "                                                                 \n",
            " batch_normalization_1 (Bat  (None, 50)                200       \n",
            " chNormalization)                                                \n",
            "                                                                 \n",
            " dropout_2 (Dropout)         (None, 50)                0         \n",
            "                                                                 \n",
            " third_hidden (Dense)        (None, 100)               5100      \n",
            "                                                                 \n",
            " batch_normalization_2 (Bat  (None, 100)               400       \n",
            " chNormalization)                                                \n",
            "                                                                 \n",
            " dropout_3 (Dropout)         (None, 100)               0         \n",
            "                                                                 \n",
            " fourth_hidden (Dense)       (None, 100)               10100     \n",
            "                                                                 \n",
            " batch_normalization_3 (Bat  (None, 100)               400       \n",
            " chNormalization)                                                \n",
            "                                                                 \n",
            " dropout_4 (Dropout)         (None, 100)               0         \n",
            "                                                                 \n",
            " output (Dense)              (None, 10)                1010      \n",
            "                                                                 \n",
            "=================================================================\n",
            "Total params: 842856 (3.22 MB)\n",
            "Trainable params: 842156 (3.21 MB)\n",
            "Non-trainable params: 700 (2.73 KB)\n",
            "_________________________________________________________________\n"
          ]
        }
      ],
      "source": [
        "model.add(Flatten())\n",
        "\n",
        "model.add(Dense(100, activation = 'relu', name='first_hidden'))\n",
        "model.add(BatchNormalization())\n",
        "model.add(Dropout(0.2))\n",
        "\n",
        "model.add(Dense(50, activation = 'relu', name='second_hidden'))\n",
        "model.add(BatchNormalization())\n",
        "model.add(Dropout(0.2))\n",
        "\n",
        "model.add(Dense(100, activation = 'relu', name='third_hidden'))\n",
        "model.add(BatchNormalization())\n",
        "model.add(Dropout(0.2))\n",
        "\n",
        "model.add(Dense(100, activation = 'relu', name='fourth_hidden'))\n",
        "model.add(BatchNormalization())\n",
        "model.add(Dropout(0.2))\n",
        "\n",
        "model.add(Dense(10, activation = 'softmax', name='output'))\n",
        "#if binary layer activation use: Sigmoid\n",
        "\n",
        "model.summary()"
      ]
    },
    {
      "cell_type": "markdown",
      "source": [
        "Train the model"
      ],
      "metadata": {
        "id": "h9qX6aGe14Fs"
      }
    },
    {
      "cell_type": "code",
      "execution_count": 20,
      "metadata": {
        "id": "7DnsieI_-ikC",
        "colab": {
          "base_uri": "https://localhost:8080/"
        },
        "outputId": "2fc0df2f-7533-4ab6-a80d-c8a3fec8572d"
      },
      "outputs": [
        {
          "output_type": "stream",
          "name": "stdout",
          "text": [
            "Epoch 1/20\n",
            "4/4 [==============================] - 5s 186ms/step - loss: 3.1248 - accuracy: 0.1175 - val_loss: 6.9572 - val_accuracy: 0.1400\n",
            "Epoch 2/20\n",
            "4/4 [==============================] - 0s 75ms/step - loss: 2.9153 - accuracy: 0.0900 - val_loss: 3.8181 - val_accuracy: 0.1100\n",
            "Epoch 3/20\n",
            "4/4 [==============================] - 0s 68ms/step - loss: 2.5422 - accuracy: 0.1750 - val_loss: 3.3832 - val_accuracy: 0.1500\n",
            "Epoch 4/20\n",
            "4/4 [==============================] - 0s 65ms/step - loss: 2.3340 - accuracy: 0.2350 - val_loss: 3.4034 - val_accuracy: 0.1000\n",
            "Epoch 5/20\n",
            "4/4 [==============================] - 0s 66ms/step - loss: 2.3113 - accuracy: 0.2350 - val_loss: 3.0329 - val_accuracy: 0.1200\n",
            "Epoch 6/20\n",
            "4/4 [==============================] - 0s 69ms/step - loss: 2.2433 - accuracy: 0.2400 - val_loss: 3.3047 - val_accuracy: 0.1200\n",
            "Epoch 7/20\n",
            "4/4 [==============================] - 0s 70ms/step - loss: 2.1955 - accuracy: 0.2825 - val_loss: 2.8671 - val_accuracy: 0.1500\n",
            "Epoch 8/20\n",
            "4/4 [==============================] - 0s 67ms/step - loss: 2.1998 - accuracy: 0.2625 - val_loss: 2.6711 - val_accuracy: 0.1700\n",
            "Epoch 9/20\n",
            "4/4 [==============================] - 0s 63ms/step - loss: 2.0428 - accuracy: 0.2825 - val_loss: 2.5518 - val_accuracy: 0.1200\n",
            "Epoch 10/20\n",
            "4/4 [==============================] - 0s 70ms/step - loss: 2.0492 - accuracy: 0.3375 - val_loss: 2.6133 - val_accuracy: 0.1300\n",
            "Epoch 11/20\n",
            "4/4 [==============================] - 0s 65ms/step - loss: 1.9142 - accuracy: 0.3375 - val_loss: 2.1917 - val_accuracy: 0.2000\n",
            "Epoch 12/20\n",
            "4/4 [==============================] - 0s 67ms/step - loss: 1.9189 - accuracy: 0.3250 - val_loss: 2.2041 - val_accuracy: 0.1600\n",
            "Epoch 13/20\n",
            "4/4 [==============================] - 0s 67ms/step - loss: 1.8594 - accuracy: 0.3475 - val_loss: 2.5091 - val_accuracy: 0.1400\n",
            "Epoch 14/20\n",
            "4/4 [==============================] - 0s 68ms/step - loss: 1.8909 - accuracy: 0.3400 - val_loss: 2.4985 - val_accuracy: 0.1700\n",
            "Epoch 15/20\n",
            "4/4 [==============================] - 0s 65ms/step - loss: 1.7246 - accuracy: 0.3825 - val_loss: 2.5227 - val_accuracy: 0.1900\n",
            "Epoch 16/20\n",
            "4/4 [==============================] - 0s 69ms/step - loss: 1.6436 - accuracy: 0.4200 - val_loss: 2.2679 - val_accuracy: 0.1400\n",
            "Epoch 17/20\n",
            "4/4 [==============================] - 0s 72ms/step - loss: 1.6489 - accuracy: 0.4400 - val_loss: 2.2778 - val_accuracy: 0.2100\n",
            "Epoch 18/20\n",
            "4/4 [==============================] - 0s 81ms/step - loss: 1.7044 - accuracy: 0.4075 - val_loss: 2.1762 - val_accuracy: 0.2200\n",
            "Epoch 19/20\n",
            "4/4 [==============================] - 0s 66ms/step - loss: 1.5385 - accuracy: 0.4875 - val_loss: 2.1170 - val_accuracy: 0.2300\n",
            "Epoch 20/20\n",
            "4/4 [==============================] - 0s 68ms/step - loss: 1.4804 - accuracy: 0.4675 - val_loss: 2.2884 - val_accuracy: 0.1800\n"
          ]
        }
      ],
      "source": [
        "model.compile(loss='categorical_crossentropy', optimizer=OPTIM, \\\n",
        "             metrics=['accuracy'])\n",
        "history = model.fit(X_train, y_train_binaries, batch_size=128, epochs=20, \\\n",
        "         validation_split=0.2, verbose=1)"
      ]
    },
    {
      "cell_type": "markdown",
      "source": [
        "Evaluate the Keras Model"
      ],
      "metadata": {
        "id": "4bBJyYiz2DdX"
      }
    },
    {
      "cell_type": "code",
      "execution_count": 21,
      "metadata": {
        "id": "fDel__tm-ikC",
        "colab": {
          "base_uri": "https://localhost:8080/"
        },
        "outputId": "505a086d-a0a5-4957-8117-55ca6c676888"
      },
      "outputs": [
        {
          "output_type": "stream",
          "name": "stdout",
          "text": [
            "16/16 [==============================] - 0s 9ms/step - loss: 2.0473 - accuracy: 0.2200\n",
            "\n",
            "\n",
            "Train Loss: 2.05\n",
            "Train Accuracy: 22.00\n"
          ]
        }
      ],
      "source": [
        "# evaluate the keras model\n",
        "loss, accuracy = model.evaluate(X_train, y_train_binaries)\n",
        "print('\\n\\nTrain Loss: %.2f' % (loss))\n",
        "print('Train Accuracy: %.2f' % (accuracy*100))"
      ]
    },
    {
      "cell_type": "markdown",
      "source": [
        "Test the model"
      ],
      "metadata": {
        "id": "U1CKrh122IBZ"
      }
    },
    {
      "cell_type": "code",
      "execution_count": 22,
      "metadata": {
        "id": "hJJ1Vvjf0sdG",
        "colab": {
          "base_uri": "https://localhost:8080/"
        },
        "outputId": "c2ce34f0-cfa4-435b-b16d-2e150e9dfca7"
      },
      "outputs": [
        {
          "output_type": "stream",
          "name": "stdout",
          "text": [
            "4/4 [==============================] - 0s 8ms/step - loss: 2.0534 - accuracy: 0.2800\n",
            "\n",
            "\n",
            "Test Loss: 2.05\n",
            "Test Accuracy: 28.00\n"
          ]
        }
      ],
      "source": [
        "loss, accuracy = model.evaluate(X_test, y_test_binaries)\n",
        "print('\\n\\nTest Loss: %.2f' % (loss))\n",
        "print('Test Accuracy: %.2f' % (accuracy*100))"
      ]
    },
    {
      "cell_type": "markdown",
      "metadata": {
        "id": "2_CWD0dq-ikC"
      },
      "source": [
        "Categories:\n",
        "* 0 airplane\n",
        "* 1 automobile\n",
        "* 2 bird\n",
        "* 3 cat\n",
        "* 4 deer\n",
        "* 5 dog\n",
        "* 6 frog\n",
        "* 7 horse\n",
        "* 8 ship\n",
        "* 9 truck"
      ]
    },
    {
      "cell_type": "markdown",
      "source": [
        "Prediction Model"
      ],
      "metadata": {
        "id": "nXT8qC5Q2eQO"
      }
    },
    {
      "cell_type": "code",
      "execution_count": 23,
      "metadata": {
        "id": "_kaOSWFR04-x",
        "colab": {
          "base_uri": "https://localhost:8080/"
        },
        "outputId": "b0e4f782-5058-44b3-96b8-cc509af61571"
      },
      "outputs": [
        {
          "output_type": "stream",
          "name": "stdout",
          "text": [
            "16/16 [==============================] - 0s 14ms/step\n"
          ]
        },
        {
          "output_type": "execute_result",
          "data": {
            "text/plain": [
              "array([[22,  1,  0,  0,  0,  0, 15,  3,  1,  5],\n",
              "       [ 2,  3,  0,  0,  0,  0, 46,  0,  0,  1],\n",
              "       [ 3,  0,  0,  0,  0,  0, 38,  2,  0,  0],\n",
              "       [ 0,  0,  0,  2,  0,  0, 44,  0,  0,  0],\n",
              "       [ 3,  0,  0,  0,  0,  0, 44,  0,  0,  1],\n",
              "       [ 0,  0,  0,  0,  0,  0, 59,  0,  0,  0],\n",
              "       [ 0,  0,  0,  1,  0,  0, 59,  0,  0,  0],\n",
              "       [ 0,  0,  0,  0,  0,  0, 37, 10,  0,  0],\n",
              "       [17,  0,  0,  0,  0,  1, 26,  0,  8,  4],\n",
              "       [ 0,  0,  0,  0,  0,  0, 36,  0,  0,  6]])"
            ]
          },
          "metadata": {},
          "execution_count": 23
        }
      ],
      "source": [
        "prob_prediction_train = model.predict(X_train)\n",
        "predict_classes_train = np.argmax(prob_prediction_train,axis=1)\n",
        "\n",
        "from sklearn.metrics import confusion_matrix\n",
        "confusion_matrix(y_train,predict_classes_train)\n",
        "#numbers present on diagnol are true predictions others are false"
      ]
    },
    {
      "cell_type": "markdown",
      "metadata": {
        "id": "wLyo7KMy1YAX"
      },
      "source": [
        "## Plot results"
      ]
    },
    {
      "cell_type": "code",
      "execution_count": 24,
      "metadata": {
        "id": "wL30pRC51arx",
        "colab": {
          "base_uri": "https://localhost:8080/",
          "height": 472
        },
        "outputId": "4c3999d3-c77a-48c0-c785-dc352881d08a"
      },
      "outputs": [
        {
          "output_type": "display_data",
          "data": {
            "text/plain": [
              "<Figure size 640x480 with 1 Axes>"
            ],
            "image/png": "[encoded data removed]"
          },
          "metadata": {}
        }
      ],
      "source": [
        "import matplotlib.pyplot as plt\n",
        "%matplotlib inline\n",
        "\n",
        "plt.plot(history.history['loss'], label='training')\n",
        "plt.plot(history.history['val_loss'], label='testing')\n",
        "plt.title('Model Loss')\n",
        "plt.legend()\n",
        "plt.ylabel('Loss')\n",
        "plt.xlabel('Epoch')\n",
        "plt.show()"
      ]
    },
    {
      "cell_type": "markdown",
      "metadata": {
        "id": "Quoqh8rj-ikD"
      },
      "source": [
        "### Predict a New Image"
      ]
    },
    {
      "cell_type": "code",
      "execution_count": 25,
      "metadata": {
        "id": "7tamoMvF-ikD"
      },
      "outputs": [],
      "source": [
        "categories = ['airplane', 'automobile', 'bird', 'cat', \\\n",
        "              'deer', 'dog', 'frog', 'horse', 'ship', 'truck']"
      ]
    },
    {
      "cell_type": "code",
      "execution_count": 26,
      "metadata": {
        "id": "4tosJtmv-ikD",
        "colab": {
          "base_uri": "https://localhost:8080/"
        },
        "outputId": "8780a909-52f6-40d1-c7a6-cd586247360e"
      },
      "outputs": [
        {
          "output_type": "stream",
          "name": "stdout",
          "text": [
            "1/1 [==============================] - 0s 153ms/step\n",
            "Predicted Category: frog\n"
          ]
        }
      ],
      "source": [
        "# make a prediction for a new image.\n",
        "from tensorflow.keras.utils import load_img\n",
        "from tensorflow.keras.utils import img_to_array\n",
        "from keras.models import load_model\n",
        "import numpy as np\n",
        "# load and prepare the image\n",
        "def load_image(filename):\n",
        "    # load the image\n",
        "    img = load_img(filename, target_size=(32, 32))\n",
        "    # convert to array\n",
        "    img = img_to_array(img)\n",
        "    # reshape into a single sample with 3 channels\n",
        "    img = img.reshape(1, 32, 32, 3)\n",
        "    return img\n",
        "\n",
        "# load an image and predict the class\n",
        "img = load_image('/content/drive/MyDrive/Colab Notebooks/MISY436_636/18-Convolutional Neural Networks Coding Session/dexter2.jpg')\n",
        "# predict the class\n",
        "predict_x=model.predict(img)\n",
        "classes_x=np.argmax(predict_x,axis=1)\n",
        "result = classes_x[0]\n",
        "print('Predicted Category: ' + str(categories[result]))"
      ]
    },
    {
      "cell_type": "markdown",
      "metadata": {
        "id": "ORU1Kgmo-ikD"
      },
      "source": [
        "Categories:\n",
        "* 0 airplane\n",
        "* 1 automobile\n",
        "* 2 bird\n",
        "* 3 cat\n",
        "* 4 deer\n",
        "* 5 dog\n",
        "* 6 frog\n",
        "* 7 horse\n",
        "* 8 ship\n",
        "* 9 truck"
      ]
    },
    {
      "cell_type": "code",
      "execution_count": 27,
      "metadata": {
        "id": "HsFnGqKD-ikE",
        "colab": {
          "base_uri": "https://localhost:8080/"
        },
        "outputId": "7e822386-fefe-4bde-91eb-b5b04c9540df"
      },
      "outputs": [
        {
          "output_type": "stream",
          "name": "stdout",
          "text": [
            "1/1 [==============================] - 0s 25ms/step\n",
            "Predicted Category: frog\n"
          ]
        }
      ],
      "source": [
        "# load an image and predict the class\n",
        "img = load_image('/content/drive/MyDrive/Colab Notebooks/MISY436_636/18-Convolutional Neural Networks Coding Session/mustang2.jpg')\n",
        "# predict the class\n",
        "predict_x=model.predict(img)\n",
        "classes_x=np.argmax(predict_x,axis=1)\n",
        "result = classes_x[0]\n",
        "print('Predicted Category: ' + str(categories[result]))"
      ]
    },
    {
      "cell_type": "code",
      "execution_count": 28,
      "metadata": {
        "id": "P2cWkErq-ikE",
        "colab": {
          "base_uri": "https://localhost:8080/"
        },
        "outputId": "cb519637-f3c7-4e1e-9469-6fabc2466583"
      },
      "outputs": [
        {
          "output_type": "stream",
          "name": "stdout",
          "text": [
            "1/1 [==============================] - 0s 18ms/step\n",
            "Predicted Category: frog\n"
          ]
        }
      ],
      "source": [
        "# load an image and predict the class\n",
        "img = load_image('/content/drive/MyDrive/Colab Notebooks/MISY436_636/18-Convolutional Neural Networks Coding Session/boats2.jpg')\n",
        "# predict the class\n",
        "predict_x=model.predict(img)\n",
        "classes_x=np.argmax(predict_x,axis=1)\n",
        "result = classes_x[0]\n",
        "print('Predicted Category: ' + str(categories[result]))"
      ]
    },
    {
      "cell_type": "code",
      "execution_count": 29,
      "metadata": {
        "id": "PJ7dpPo3-ikE",
        "colab": {
          "base_uri": "https://localhost:8080/"
        },
        "outputId": "351e971b-17ef-4131-96ec-98be00cc44a6"
      },
      "outputs": [
        {
          "output_type": "stream",
          "name": "stdout",
          "text": [
            "1/1 [==============================] - 0s 25ms/step\n",
            "Predicted Category: frog\n"
          ]
        }
      ],
      "source": [
        "# load an image and predict the class\n",
        "img = load_image('/content/drive/MyDrive/Colab Notebooks/MISY436_636/18-Convolutional Neural Networks Coding Session/chicken2.jpg')\n",
        "# predict the class\n",
        "predict_x=model.predict(img)\n",
        "classes_x=np.argmax(predict_x,axis=1)\n",
        "result = classes_x[0]\n",
        "print('Predicted Category: ' + str(categories[result]))"
      ]
    },
    {
      "cell_type": "code",
      "execution_count": 30,
      "metadata": {
        "id": "ICou7JNQ-ikF",
        "colab": {
          "base_uri": "https://localhost:8080/"
        },
        "outputId": "62ffb69e-e348-4715-c74f-97069a197813"
      },
      "outputs": [
        {
          "output_type": "stream",
          "name": "stdout",
          "text": [
            "1/1 [==============================] - 0s 32ms/step\n",
            "Predicted Category: frog\n"
          ]
        }
      ],
      "source": [
        "# load an image and predict the class\n",
        "img = load_image('/content/drive/MyDrive/Colab Notebooks/MISY436_636/18-Convolutional Neural Networks Coding Session/truck2.jpg')\n",
        "# predict the class\n",
        "predict_x=model.predict(img)\n",
        "classes_x=np.argmax(predict_x,axis=1)\n",
        "result = classes_x[0]\n",
        "print('Predicted Category: ' + str(categories[result]))"
      ]
    },
    {
      "cell_type": "code",
      "execution_count": 31,
      "metadata": {
        "id": "ZemI8n9o-ikF",
        "colab": {
          "base_uri": "https://localhost:8080/"
        },
        "outputId": "18f705b1-9622-4bad-9328-09e0ef2bab7e"
      },
      "outputs": [
        {
          "output_type": "stream",
          "name": "stdout",
          "text": [
            "1/1 [==============================] - 0s 21ms/step\n",
            "Predicted Category: frog\n"
          ]
        }
      ],
      "source": [
        "# load an image and predict the class\n",
        "img = load_image('/content/drive/MyDrive/Colab Notebooks/MISY436_636/18-Convolutional Neural Networks Coding Session/semitruck2.jpg')\n",
        "# predict the class\n",
        "predict_x=model.predict(img)\n",
        "classes_x=np.argmax(predict_x,axis=1)\n",
        "result = classes_x[0]\n",
        "print('Predicted Category: ' + str(categories[result]))"
      ]
    }
  ],
  "metadata": {
    "colab": {
      "provenance": []
    },
    "kernelspec": {
      "display_name": "Python 3 (ipykernel)",
      "language": "python",
      "name": "python3"
    },
    "language_info": {
      "codemirror_mode": {
        "name": "ipython",
        "version": 3
      },
      "file_extension": ".py",
      "mimetype": "text/x-python",
      "name": "python",
      "nbconvert_exporter": "python",
      "pygments_lexer": "ipython3",
      "version": "3.9.13"
    }
  },
  "nbformat": 4,
  "nbformat_minor": 0
}